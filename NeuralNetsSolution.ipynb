{
 "cells": [
  {
   "cell_type": "code",
   "execution_count": 31,
   "metadata": {},
   "outputs": [],
   "source": [
    "import pandas as pd\n",
    "import numpy as np"
   ]
  },
  {
   "cell_type": "code",
   "execution_count": 32,
   "metadata": {},
   "outputs": [],
   "source": [
    "a = pd.read_csv('preprocessed_data.csv')"
   ]
  },
  {
   "cell_type": "code",
   "execution_count": 33,
   "metadata": {},
   "outputs": [],
   "source": [
    "from keras.models import Sequential\n",
    "from keras.layers import Dense\n",
    "from sklearn.preprocessing import LabelEncoder"
   ]
  },
  {
   "cell_type": "code",
   "execution_count": 34,
   "metadata": {},
   "outputs": [],
   "source": [
    "X = a.loc[:,a.columns != 'class']\n",
    "y = a['class']\n",
    "X = X.drop('sid',axis=1)\n",
    "y = pd.get_dummies(y)\n",
    "X = X.drop('Unnamed: 0',axis=1)"
   ]
  },
  {
   "cell_type": "code",
   "execution_count": 35,
   "metadata": {},
   "outputs": [],
   "source": [
    "from sklearn.model_selection import train_test_split\n",
    "X_train, X_test, y_train, y_test = train_test_split(X,y,test_size=0.30,random_state=45)"
   ]
  },
  {
   "cell_type": "code",
   "execution_count": 47,
   "metadata": {},
   "outputs": [],
   "source": [
    "from keras.wrappers.scikit_learn import KerasClassifier\n",
    "from keras.utils import np_utils\n",
    "from sklearn.model_selection import cross_val_score\n",
    "from sklearn.model_selection import KFold\n",
    "from sklearn.pipeline import Pipeline"
   ]
  },
  {
   "cell_type": "code",
   "execution_count": 37,
   "metadata": {},
   "outputs": [],
   "source": [
    "model = Sequential()\n",
    "model.add(Dense(16,input_dim=26,activation='relu'))\n",
    "model.add(Dense(8,activation='relu'))\n",
    "model.add(Dense(7,activation='softmax'))"
   ]
  },
  {
   "cell_type": "code",
   "execution_count": 40,
   "metadata": {},
   "outputs": [],
   "source": [
    "model.compile(loss='mse', optimizer='adam',metrics=['accuracy'])"
   ]
  },
  {
   "cell_type": "code",
   "execution_count": 41,
   "metadata": {},
   "outputs": [
    {
     "name": "stdout",
     "output_type": "stream",
     "text": [
      "Epoch 1/50\n",
      "25273/25273 [==============================] - 3s 121us/step - loss: 0.0273 - accuracy: 0.8681\n",
      "Epoch 2/50\n",
      "25273/25273 [==============================] - 3s 119us/step - loss: 0.0272 - accuracy: 0.8680\n",
      "Epoch 3/50\n",
      "25273/25273 [==============================] - 3s 110us/step - loss: 0.0271 - accuracy: 0.8705\n",
      "Epoch 4/50\n",
      "25273/25273 [==============================] - 3s 110us/step - loss: 0.0271 - accuracy: 0.8701\n",
      "Epoch 5/50\n",
      "25273/25273 [==============================] - 3s 112us/step - loss: 0.0269 - accuracy: 0.8705\n",
      "Epoch 6/50\n",
      "25273/25273 [==============================] - 3s 113us/step - loss: 0.0268 - accuracy: 0.8709\n",
      "Epoch 7/50\n",
      "25273/25273 [==============================] - 3s 111us/step - loss: 0.0269 - accuracy: 0.8707\n",
      "Epoch 8/50\n",
      "25273/25273 [==============================] - 3s 112us/step - loss: 0.0269 - accuracy: 0.8705\n",
      "Epoch 9/50\n",
      "25273/25273 [==============================] - 3s 110us/step - loss: 0.0268 - accuracy: 0.8722\n",
      "Epoch 10/50\n",
      "25273/25273 [==============================] - 3s 113us/step - loss: 0.0267 - accuracy: 0.8722\n",
      "Epoch 11/50\n",
      "25273/25273 [==============================] - 3s 110us/step - loss: 0.0267 - accuracy: 0.8726\n",
      "Epoch 12/50\n",
      "25273/25273 [==============================] - 3s 111us/step - loss: 0.0268 - accuracy: 0.8722\n",
      "Epoch 13/50\n",
      "25273/25273 [==============================] - 3s 111us/step - loss: 0.0267 - accuracy: 0.8714\n",
      "Epoch 14/50\n",
      "25273/25273 [==============================] - 3s 110us/step - loss: 0.0266 - accuracy: 0.8729\n",
      "Epoch 15/50\n",
      "25273/25273 [==============================] - 3s 112us/step - loss: 0.0265 - accuracy: 0.8733\n",
      "Epoch 16/50\n",
      "25273/25273 [==============================] - 3s 113us/step - loss: 0.0266 - accuracy: 0.8731\n",
      "Epoch 17/50\n",
      "25273/25273 [==============================] - 3s 112us/step - loss: 0.0265 - accuracy: 0.8729\n",
      "Epoch 18/50\n",
      "25273/25273 [==============================] - 3s 111us/step - loss: 0.0265 - accuracy: 0.8744\n",
      "Epoch 19/50\n",
      "25273/25273 [==============================] - 3s 113us/step - loss: 0.0263 - accuracy: 0.8744\n",
      "Epoch 20/50\n",
      "25273/25273 [==============================] - 3s 112us/step - loss: 0.0261 - accuracy: 0.8764\n",
      "Epoch 21/50\n",
      "25273/25273 [==============================] - 3s 111us/step - loss: 0.0261 - accuracy: 0.8755\n",
      "Epoch 22/50\n",
      "25273/25273 [==============================] - 3s 113us/step - loss: 0.0265 - accuracy: 0.8745\n",
      "Epoch 23/50\n",
      "25273/25273 [==============================] - 3s 116us/step - loss: 0.0263 - accuracy: 0.8748\n",
      "Epoch 24/50\n",
      "25273/25273 [==============================] - 3s 112us/step - loss: 0.0263 - accuracy: 0.8748\n",
      "Epoch 25/50\n",
      "25273/25273 [==============================] - 3s 111us/step - loss: 0.0263 - accuracy: 0.8752\n",
      "Epoch 26/50\n",
      "25273/25273 [==============================] - 3s 111us/step - loss: 0.0261 - accuracy: 0.8751\n",
      "Epoch 27/50\n",
      "25273/25273 [==============================] - 3s 112us/step - loss: 0.0261 - accuracy: 0.8764\n",
      "Epoch 28/50\n",
      "25273/25273 [==============================] - 3s 116us/step - loss: 0.0261 - accuracy: 0.8749\n",
      "Epoch 29/50\n",
      "25273/25273 [==============================] - 3s 111us/step - loss: 0.0260 - accuracy: 0.8758\n",
      "Epoch 30/50\n",
      "25273/25273 [==============================] - 3s 114us/step - loss: 0.0261 - accuracy: 0.8762\n",
      "Epoch 31/50\n",
      "25273/25273 [==============================] - 3s 110us/step - loss: 0.0262 - accuracy: 0.8751\n",
      "Epoch 32/50\n",
      "25273/25273 [==============================] - 3s 114us/step - loss: 0.0260 - accuracy: 0.8756\n",
      "Epoch 33/50\n",
      "25273/25273 [==============================] - 3s 113us/step - loss: 0.0260 - accuracy: 0.8767\n",
      "Epoch 34/50\n",
      "25273/25273 [==============================] - 3s 115us/step - loss: 0.0260 - accuracy: 0.8766\n",
      "Epoch 35/50\n",
      "25273/25273 [==============================] - 3s 113us/step - loss: 0.0260 - accuracy: 0.8765\n",
      "Epoch 36/50\n",
      "25273/25273 [==============================] - 3s 111us/step - loss: 0.0261 - accuracy: 0.8759\n",
      "Epoch 37/50\n",
      "25273/25273 [==============================] - 3s 113us/step - loss: 0.0260 - accuracy: 0.8739\n",
      "Epoch 38/50\n",
      "25273/25273 [==============================] - 3s 113us/step - loss: 0.0259 - accuracy: 0.8760\n",
      "Epoch 39/50\n",
      "25273/25273 [==============================] - 3s 111us/step - loss: 0.0261 - accuracy: 0.8762\n",
      "Epoch 40/50\n",
      "25273/25273 [==============================] - 3s 113us/step - loss: 0.0260 - accuracy: 0.8776\n",
      "Epoch 41/50\n",
      "25273/25273 [==============================] - 3s 115us/step - loss: 0.0260 - accuracy: 0.8778\n",
      "Epoch 42/50\n",
      "25273/25273 [==============================] - 3s 116us/step - loss: 0.0259 - accuracy: 0.8766\n",
      "Epoch 43/50\n",
      "25273/25273 [==============================] - 3s 113us/step - loss: 0.0259 - accuracy: 0.8775\n",
      "Epoch 44/50\n",
      "25273/25273 [==============================] - 3s 115us/step - loss: 0.0260 - accuracy: 0.8767\n",
      "Epoch 45/50\n",
      "25273/25273 [==============================] - 3s 113us/step - loss: 0.0259 - accuracy: 0.8779\n",
      "Epoch 46/50\n",
      "25273/25273 [==============================] - 3s 112us/step - loss: 0.0258 - accuracy: 0.8761\n",
      "Epoch 47/50\n",
      "25273/25273 [==============================] - 3s 111us/step - loss: 0.0258 - accuracy: 0.8769\n",
      "Epoch 48/50\n",
      "25273/25273 [==============================] - 3s 112us/step - loss: 0.0259 - accuracy: 0.8770\n",
      "Epoch 49/50\n",
      "25273/25273 [==============================] - 3s 112us/step - loss: 0.0258 - accuracy: 0.8769\n",
      "Epoch 50/50\n",
      "25273/25273 [==============================] - 3s 112us/step - loss: 0.0258 - accuracy: 0.8777\n"
     ]
    },
    {
     "data": {
      "text/plain": [
       "<keras.callbacks.callbacks.History at 0x7f53e121cbe0>"
      ]
     },
     "execution_count": 41,
     "metadata": {},
     "output_type": "execute_result"
    }
   ],
   "source": [
    "model.fit(X_train,y_train,batch_size=10,epochs=50)"
   ]
  },
  {
   "cell_type": "code",
   "execution_count": 43,
   "metadata": {},
   "outputs": [],
   "source": [
    "y_pred = model.predict(X_test)"
   ]
  },
  {
   "cell_type": "code",
   "execution_count": 48,
   "metadata": {},
   "outputs": [
    {
     "ename": "NameError",
     "evalue": "name 'Kfold' is not defined",
     "output_type": "error",
     "traceback": [
      "\u001b[0;31m---------------------------------------------------------------------------\u001b[0m",
      "\u001b[0;31mNameError\u001b[0m                                 Traceback (most recent call last)",
      "\u001b[0;32m<ipython-input-48-43900c6104a2>\u001b[0m in \u001b[0;36m<module>\u001b[0;34m\u001b[0m\n\u001b[0;32m----> 1\u001b[0;31m \u001b[0mkfold\u001b[0m \u001b[0;34m=\u001b[0m \u001b[0mKfold\u001b[0m\u001b[0;34m(\u001b[0m\u001b[0mn_splits\u001b[0m\u001b[0;34m=\u001b[0m\u001b[0;36m10\u001b[0m\u001b[0;34m,\u001b[0m\u001b[0mshuffle\u001b[0m\u001b[0;34m=\u001b[0m\u001b[0;32mTrue\u001b[0m\u001b[0;34m)\u001b[0m\u001b[0;34m\u001b[0m\u001b[0;34m\u001b[0m\u001b[0m\n\u001b[0m\u001b[1;32m      2\u001b[0m \u001b[0mresults\u001b[0m \u001b[0;34m=\u001b[0m \u001b[0mcross_val_score\u001b[0m\u001b[0;34m(\u001b[0m\u001b[0mmodel\u001b[0m\u001b[0;34m,\u001b[0m\u001b[0mX_test\u001b[0m\u001b[0;34m,\u001b[0m\u001b[0my_test\u001b[0m\u001b[0;34m,\u001b[0m\u001b[0mcv\u001b[0m\u001b[0;34m=\u001b[0m\u001b[0mkfold\u001b[0m\u001b[0;34m)\u001b[0m\u001b[0;34m\u001b[0m\u001b[0;34m\u001b[0m\u001b[0m\n",
      "\u001b[0;31mNameError\u001b[0m: name 'Kfold' is not defined"
     ]
    }
   ],
   "source": [
    "kfold = Kfold(n_splits=10,shuffle=True)\n",
    "results = cross_val_score(model,X_test,y_test,cv=kfold)"
   ]
  },
  {
   "cell_type": "code",
   "execution_count": 45,
   "metadata": {},
   "outputs": [
    {
     "ename": "ValueError",
     "evalue": "Classification metrics can't handle a mix of multilabel-indicator and continuous-multioutput targets",
     "output_type": "error",
     "traceback": [
      "\u001b[0;31m---------------------------------------------------------------------------\u001b[0m",
      "\u001b[0;31mValueError\u001b[0m                                Traceback (most recent call last)",
      "\u001b[0;32m<ipython-input-45-a932cdc2da37>\u001b[0m in \u001b[0;36m<module>\u001b[0;34m\u001b[0m\n\u001b[0;32m----> 1\u001b[0;31m \u001b[0mprint\u001b[0m\u001b[0;34m(\u001b[0m\u001b[0;34m\"The accuracy score of RandomForestClassifier model is %s\"\u001b[0m \u001b[0;34m%\u001b[0m\u001b[0;34m(\u001b[0m\u001b[0maccuracy_score\u001b[0m\u001b[0;34m(\u001b[0m\u001b[0my_test\u001b[0m\u001b[0;34m,\u001b[0m \u001b[0my_pred\u001b[0m\u001b[0;34m)\u001b[0m\u001b[0;34m)\u001b[0m\u001b[0;34m)\u001b[0m\u001b[0;34m\u001b[0m\u001b[0;34m\u001b[0m\u001b[0m\n\u001b[0m",
      "\u001b[0;32m/anaconda/envs/azureml_py36/lib/python3.6/site-packages/sklearn/metrics/_classification.py\u001b[0m in \u001b[0;36maccuracy_score\u001b[0;34m(y_true, y_pred, normalize, sample_weight)\u001b[0m\n\u001b[1;32m    183\u001b[0m \u001b[0;34m\u001b[0m\u001b[0m\n\u001b[1;32m    184\u001b[0m     \u001b[0;31m# Compute accuracy for each possible representation\u001b[0m\u001b[0;34m\u001b[0m\u001b[0;34m\u001b[0m\u001b[0;34m\u001b[0m\u001b[0m\n\u001b[0;32m--> 185\u001b[0;31m     \u001b[0my_type\u001b[0m\u001b[0;34m,\u001b[0m \u001b[0my_true\u001b[0m\u001b[0;34m,\u001b[0m \u001b[0my_pred\u001b[0m \u001b[0;34m=\u001b[0m \u001b[0m_check_targets\u001b[0m\u001b[0;34m(\u001b[0m\u001b[0my_true\u001b[0m\u001b[0;34m,\u001b[0m \u001b[0my_pred\u001b[0m\u001b[0;34m)\u001b[0m\u001b[0;34m\u001b[0m\u001b[0;34m\u001b[0m\u001b[0m\n\u001b[0m\u001b[1;32m    186\u001b[0m     \u001b[0mcheck_consistent_length\u001b[0m\u001b[0;34m(\u001b[0m\u001b[0my_true\u001b[0m\u001b[0;34m,\u001b[0m \u001b[0my_pred\u001b[0m\u001b[0;34m,\u001b[0m \u001b[0msample_weight\u001b[0m\u001b[0;34m)\u001b[0m\u001b[0;34m\u001b[0m\u001b[0;34m\u001b[0m\u001b[0m\n\u001b[1;32m    187\u001b[0m     \u001b[0;32mif\u001b[0m \u001b[0my_type\u001b[0m\u001b[0;34m.\u001b[0m\u001b[0mstartswith\u001b[0m\u001b[0;34m(\u001b[0m\u001b[0;34m'multilabel'\u001b[0m\u001b[0;34m)\u001b[0m\u001b[0;34m:\u001b[0m\u001b[0;34m\u001b[0m\u001b[0;34m\u001b[0m\u001b[0m\n",
      "\u001b[0;32m/anaconda/envs/azureml_py36/lib/python3.6/site-packages/sklearn/metrics/_classification.py\u001b[0m in \u001b[0;36m_check_targets\u001b[0;34m(y_true, y_pred)\u001b[0m\n\u001b[1;32m     88\u001b[0m     \u001b[0;32mif\u001b[0m \u001b[0mlen\u001b[0m\u001b[0;34m(\u001b[0m\u001b[0my_type\u001b[0m\u001b[0;34m)\u001b[0m \u001b[0;34m>\u001b[0m \u001b[0;36m1\u001b[0m\u001b[0;34m:\u001b[0m\u001b[0;34m\u001b[0m\u001b[0;34m\u001b[0m\u001b[0m\n\u001b[1;32m     89\u001b[0m         raise ValueError(\"Classification metrics can't handle a mix of {0} \"\n\u001b[0;32m---> 90\u001b[0;31m                          \"and {1} targets\".format(type_true, type_pred))\n\u001b[0m\u001b[1;32m     91\u001b[0m \u001b[0;34m\u001b[0m\u001b[0m\n\u001b[1;32m     92\u001b[0m     \u001b[0;31m# We can't have more than one value on y_type => The set is no more needed\u001b[0m\u001b[0;34m\u001b[0m\u001b[0;34m\u001b[0m\u001b[0;34m\u001b[0m\u001b[0m\n",
      "\u001b[0;31mValueError\u001b[0m: Classification metrics can't handle a mix of multilabel-indicator and continuous-multioutput targets"
     ]
    }
   ],
   "source": []
  }
 ],
 "metadata": {
  "kernelspec": {
   "display_name": "Python 3.6 - AzureML",
   "language": "python",
   "name": "python3-azureml"
  },
  "language_info": {
   "codemirror_mode": {
    "name": "ipython",
    "version": 3
   },
   "file_extension": ".py",
   "mimetype": "text/x-python",
   "name": "python",
   "nbconvert_exporter": "python",
   "pygments_lexer": "ipython3",
   "version": "3.6.9"
  }
 },
 "nbformat": 4,
 "nbformat_minor": 4
}
